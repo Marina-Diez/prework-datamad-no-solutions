{
 "cells": [
  {
   "cell_type": "markdown",
   "metadata": {},
   "source": [
    "# Processor temperature\n",
    "\n",
    "We have a temperature sensor in the processor of our company's server. We want to analyze the data provided to determinate whether we should change the cooling system for a better one. It is expensive and as a data analyst we cannot make decisions without a basis.\n",
    "\n",
    "We provide the temperatures measured throughout the 24 hours of a day in a list-type data structure composed of 24 integers:\n",
    "```\n",
    "temperatures_C = [33,66,65,0,59,60,62,64,70,76,80,69,80,83,68,79,61,53,50,49,53,48,45,39]\n",
    "```\n",
    "\n",
    "## Goals\n",
    "\n",
    "1. Treatment of lists\n",
    "2. Use of loop or list comprenhention\n",
    "3. Calculation of the mean, minimum and maximum.\n",
    "4. Filtering of lists.\n",
    "5. Interpolate an outlier.\n",
    "6. Logical operators.\n",
    "7. Print"
   ]
  },
  {
   "cell_type": "markdown",
   "metadata": {},
   "source": [
    "## Temperature graph\n",
    "To facilitate understanding, the temperature graph is shown below. You do not have to do anything in this section. The test starts in **Problem**."
   ]
  },
  {
   "cell_type": "code",
   "execution_count": 6,
   "metadata": {},
   "outputs": [
    {
     "data": {
      "text/plain": [
       "Text(0.5, 1.0, 'Temperatures of our server throughout the day')"
      ]
     },
     "execution_count": 6,
     "metadata": {},
     "output_type": "execute_result"
    },
    {
     "data": {
      "image/png": "[encoded data removed]",
      "text/plain": [
       "<Figure size 432x288 with 1 Axes>"
      ]
     },
     "metadata": {
      "needs_background": "light"
     },
     "output_type": "display_data"
    }
   ],
   "source": [
    "# import\n",
    "import matplotlib.pyplot as plt\n",
    "%matplotlib inline\n",
    "\n",
    "# axis x, axis y\n",
    "y = [33,66,65,0,59,60,62,64,70,76,80,81,80,83,90,79,61,53,50,49,53,48,45,39]\n",
    "x = list(range(len(y)))\n",
    "\n",
    "# plot\n",
    "plt.plot(x, y)\n",
    "plt.axhline(y=70, linewidth=1, color='r')\n",
    "plt.xlabel('hours')\n",
    "plt.ylabel('Temperature ºC')\n",
    "plt.title('Temperatures of our server throughout the day')"
   ]
  },
  {
   "cell_type": "markdown",
   "metadata": {},
   "source": [
    "## Problem\n",
    "\n",
    "If the sensor detects more than 4 hours with temperatures greater than or equal to 70ºC or any temperature above 80ºC or the average exceeds 65ºC throughout the day, we must give the order to change the cooling system to avoid damaging the processor.\n",
    "\n",
    "We will guide you step by step so you can make the decision by calculating some intermediate steps:\n",
    "\n",
    "1. Minimum temperature\n",
    "2. Maximum temperature\n",
    "3. Temperatures equal to or greater than 70ºC\n",
    "4. Average temperatures throughout the day.\n",
    "5. If there was a sensor failure at 03:00 and we did not capture the data, how would you estimate the value that we lack? Correct that value in the list of temperatures.\n",
    "6. Bonus: Our maintenance staff is from the United States and does not understand the international metric system. Pass temperatures to Degrees Fahrenheit.\n",
    "\n",
    "Formula: F = 1.8 * C + 32\n",
    "\n",
    "web: https://en.wikipedia.org/wiki/Conversion_of_units_of_temperature\n"
   ]
  },
  {
   "cell_type": "code",
   "execution_count": 22,
   "metadata": {},
   "outputs": [
    {
     "name": "stdout",
     "output_type": "stream",
     "text": [
      "minimum = 0\n"
     ]
    }
   ],
   "source": [
    "# assign a variable to the list of temperatures\n",
    "temperatures_C = [33,66,65,0,59,60,62,64,70,76,80,81,80,83,90,79,61,53,50,49,53,48,45,39]\n",
    "# 1. Calculate the minimum of the list and print the value using print()\n",
    "print(\"minimum =\",min(temperatures_C))"
   ]
  },
  {
   "cell_type": "markdown",
   "metadata": {},
   "source": [
    "**Expected output**: \n",
    "```\n",
    "minimum = 0\n",
    "```"
   ]
  },
  {
   "cell_type": "code",
   "execution_count": 2,
   "metadata": {},
   "outputs": [
    {
     "name": "stdout",
     "output_type": "stream",
     "text": [
      "maximun = 90\n"
     ]
    }
   ],
   "source": [
    "# 2. Calculate the maximum of the list and print the value using print()\n",
    "print(\"maximun =\",max(temperatures_C))"
   ]
  },
  {
   "cell_type": "markdown",
   "metadata": {},
   "source": [
    "**Expected output**: \n",
    "```\n",
    "maximum = 90\n",
    "```"
   ]
  },
  {
   "cell_type": "code",
   "execution_count": 3,
   "metadata": {},
   "outputs": [
    {
     "name": "stdout",
     "output_type": "stream",
     "text": [
      "temperatures higher or equal than 70ºC [70, 76, 80, 81, 80, 83, 90, 79]\n"
     ]
    }
   ],
   "source": [
    "# 3. Items in the list that are greater than 70ºC and print the result\n",
    "lista_temp = []\n",
    "\n",
    "for i in temperatures_C:\n",
    "    if i >= 70:\n",
    "        lista_temp.append(i)\n",
    "print(\"temperatures higher or equal than 70ºC\", lista_temp)"
   ]
  },
  {
   "cell_type": "markdown",
   "metadata": {},
   "source": [
    "**Expected output**: \n",
    "```\n",
    "temperatures higher or equal than 70ºC [70, 76, 80, 81, 80, 83, 90, 79]\n",
    "```"
   ]
  },
  {
   "cell_type": "code",
   "execution_count": 4,
   "metadata": {},
   "outputs": [
    {
     "name": "stdout",
     "output_type": "stream",
     "text": [
      "mean =  60.25\n"
     ]
    }
   ],
   "source": [
    "# 4. Calculate the mean temperature throughout the day and print the result\n",
    "print(\"mean = \",sum(temperatures_C)/len(temperatures_C))"
   ]
  },
  {
   "cell_type": "markdown",
   "metadata": {},
   "source": [
    "**Expected output**: \n",
    "```\n",
    "mean = 60.25\n",
    "```"
   ]
  },
  {
   "cell_type": "code",
   "execution_count": 5,
   "metadata": {},
   "outputs": [
    {
     "name": "stdout",
     "output_type": "stream",
     "text": [
      "Estimation of the temperature at 3:00 =  62.0\n"
     ]
    }
   ],
   "source": [
    "# 5.1 Solve the fault in the sensor by estimating a value\n",
    "\n",
    "new = (temperatures_C[2],temperatures_C[4])\n",
    "print(\"Estimation of the temperature at 3:00 = \",sum(new)/len(new))\n"
   ]
  },
  {
   "cell_type": "markdown",
   "metadata": {},
   "source": [
    "**Expected output**: \n",
    "```\n",
    "Estimation of the temperature at 3:00 = 62.0\n",
    "```"
   ]
  },
  {
   "cell_type": "code",
   "execution_count": 28,
   "metadata": {},
   "outputs": [
    {
     "name": "stdout",
     "output_type": "stream",
     "text": [
      "Corrected temperatures after estimation: [33, 66, 65, 62.0, 59, 60, 62, 64, 70, 76, 80, 81, 80, 83, 90, 79, 61, 53, 50, 49, 53, 48, 45, 39]\n"
     ]
    }
   ],
   "source": [
    "# 5.2 Update of the estimated value at 03:00 on the list\n",
    "\n",
    "temperatures_C[3] = sum(new)/len(new)\n",
    "print('Corrected temperatures after estimation:',temperatures_C)"
   ]
  },
  {
   "cell_type": "markdown",
   "metadata": {},
   "source": [
    "**Expected output**: \n",
    "```\n",
    "Corrected temperatures after estimation:  [33, 66, 65, 62.0, 59, 60, 62, 64, 70, 76, 80, 81, 80, 83, 90, 79, 61, 53, 50, 49, 53, 48, 45, 39]\n",
    "```"
   ]
  },
  {
   "cell_type": "code",
   "execution_count": 7,
   "metadata": {},
   "outputs": [
    {
     "name": "stdout",
     "output_type": "stream",
     "text": [
      "List of temperatures in Farenheit:  [91.4, 150.8, 149.0, 143.60000000000002, 138.2, 140.0, 143.60000000000002, 147.2, 158.0, 168.8, 176.0, 177.8, 176.0, 181.4, 194.0, 174.20000000000002, 141.8, 127.4, 122.0, 120.2, 127.4, 118.4, 113.0, 102.2]\n"
     ]
    }
   ],
   "source": [
    "# Bonus: convert the list of ºC to ºFarenheit\n",
    "\n",
    "f_temp = []\n",
    "\n",
    "for temperature in temperatures_C:\n",
    "    f_temp.append(temperature * 1.8 + 32)\n",
    "print('List of temperatures in Farenheit: ', f_temp)"
   ]
  },
  {
   "cell_type": "markdown",
   "metadata": {},
   "source": [
    "**Expected output**: \n",
    "```\n",
    "Temperatures in Fahrenheit Grades = [91.4, 150.8, 149.0, 143.60000000000002, 138.2, 140.0, 143.60000000000002, 147.2, 158.0, 168.8, 176.0, 177.8, 176.0, 181.4, 194.0, 174.20000000000002, 141.8, 127.4, 122.0, 120.2, 127.4, 118.4, 113.0, 102.2]\n",
    "```"
   ]
  },
  {
   "cell_type": "markdown",
   "metadata": {},
   "source": [
    "## Take the decision\n",
    "Remember that if the sensor detects more than 4 hours with temperatures greater than or equal to 70ºC or any temperature higher than 80ºC or the average was higher than 65ºC throughout the day, we must give the order to change the cooling system to avoid the danger of damaging the equipment:\n",
    "* more than 4 hours with temperatures greater than or equal to 70ºC\n",
    "* some temperature higher than 80ºC\n",
    "* average was higher than 65ºC throughout the day\n",
    "If any of these three is met, the cooling system must be changed.\n"
   ]
  },
  {
   "cell_type": "code",
   "execution_count": 26,
   "metadata": {},
   "outputs": [
    {
     "name": "stdout",
     "output_type": "stream",
     "text": [
      "false\n",
      "false\n",
      "false\n",
      "false\n",
      "false\n",
      "false\n",
      "false\n",
      "false\n",
      "false\n",
      "false\n",
      "false\n",
      "false\n",
      "false\n",
      "false\n",
      "false\n",
      "false\n",
      "false\n"
     ]
    }
   ],
   "source": [
    "# Print True or False depending on whether you would change the cooling system or not\n",
    "x = 0\n",
    "\n",
    "for i in temperatures_C:\n",
    "    if i > 70:\n",
    "        x =+ 1\n",
    "        if (x == 4):\n",
    "            print(\"True\")\n",
    "    elif i >= 80:\n",
    "        print(\"True\")\n",
    "    elif sum(temperatures_C)/len(temperatures_C) > 65:\n",
    "        print(\"True\")\n",
    "    else:\n",
    "        print(\"false\")"
   ]
  },
  {
   "cell_type": "markdown",
   "metadata": {},
   "source": [
    "**Expected output**: \n",
    "```\n",
    "True\n",
    "```"
   ]
  },
  {
   "cell_type": "markdown",
   "metadata": {},
   "source": [
    "## Future improvements\n",
    "1. We want the hours (not the temperatures) whose temperature exceeds 70ºC\n",
    "2. Condition that those hours are more than 4 consecutive and consecutive, not simply the sum of the whole set. Is this condition met?\n",
    "3. Average of each of the lists (ºC and ºF). How they relate?\n",
    "4. Standard deviation of each of the lists. How they relate?\n"
   ]
  },
  {
   "cell_type": "code",
   "execution_count": 119,
   "metadata": {},
   "outputs": [
    {
     "name": "stdout",
     "output_type": "stream",
     "text": [
      "[8, 9, 10, 11, 12, 13, 14, 15]\n"
     ]
    }
   ],
   "source": [
    "# 1. We want the hours (not the temperatures) whose temperature exceeds 70ºC\n",
    "\n",
    "hours = []\n",
    "\n",
    "for hour in range(len(temperatures_C)):\n",
    "    if temperatures_C[hour] >= 70:\n",
    "        hours.append(hour)\n",
    "print(hours)"
   ]
  },
  {
   "cell_type": "markdown",
   "metadata": {},
   "source": [
    "**Expected output**: \n",
    "```\n",
    "[8, 9, 10, 11, 12, 13, 14, 15]```"
   ]
  },
  {
   "cell_type": "code",
   "execution_count": 11,
   "metadata": {},
   "outputs": [],
   "source": [
    "# 2. Condition that those hours are more than 4 consecutive and consecutive, not simply the sum of the whole set. Is this condition met?\n",
    "\n"
   ]
  },
  {
   "cell_type": "markdown",
   "metadata": {},
   "source": [
    "**Expected output**: \n",
    "```\n",
    "True\n",
    "```"
   ]
  },
  {
   "cell_type": "code",
   "execution_count": 19,
   "metadata": {},
   "outputs": [
    {
     "name": "stdout",
     "output_type": "stream",
     "text": [
      "62.833333333333336\n",
      "145.1\n"
     ]
    }
   ],
   "source": [
    "# 3. Average of each of the lists (ºC and ºF). How they relate?\n",
    "\n",
    "print(sum(temperatures_C)/len(temperatures_C))\n",
    "print(sum(f_temp)/len(f_temp))\n",
    "\n",
    "import numpy as np\n",
    "x = np.arange(sum(temperatures_C)/len(temperatures_C), sum(f_temp)/len(f_temp))"
   ]
  },
  {
   "cell_type": "markdown",
   "metadata": {},
   "source": [
    "**Expected output**: \n",
    "```\n",
    "62.833333333333336\n",
    "145.1\n",
    "145.1 145.10000000000002\n",
    "```"
   ]
  },
  {
   "cell_type": "code",
   "execution_count": 45,
   "metadata": {},
   "outputs": [
    {
     "name": "stdout",
     "output_type": "stream",
     "text": [
      "14.94821980579356\n",
      "26.906795650428407\n"
     ]
    }
   ],
   "source": [
    "# 4. Standard deviation of each of the lists. How they relate?\n",
    "import statistics\n",
    "print(statistics.stdev(temperatures_C))\n",
    "print(statistics.stdev(f_temp))\n",
    "\n",
    "import numpy as np\n",
    "x = np.arange(statistics.stdev(temperatures_C), statistics.stdev(f_temp))\n"
   ]
  },
  {
   "cell_type": "markdown",
   "metadata": {},
   "source": [
    "**Expected output**: \n",
    "```\n",
    "14.633485192833897\n",
    "26.34027334710101\n",
    "26.34027334710101 26.340273347101014\n",
    "```"
   ]
  },
  {
   "cell_type": "code",
   "execution_count": null,
   "metadata": {},
   "outputs": [],
   "source": []
  }
 ],
 "metadata": {
  "kernelspec": {
   "display_name": "Python 3",
   "language": "python",
   "name": "python3"
  },
  "language_info": {
   "codemirror_mode": {
    "name": "ipython",
    "version": 3
   },
   "file_extension": ".py",
   "mimetype": "text/x-python",
   "name": "python",
   "nbconvert_exporter": "python",
   "pygments_lexer": "ipython3",
   "version": "3.8.5"
  }
 },
 "nbformat": 4,
 "nbformat_minor": 2
}
